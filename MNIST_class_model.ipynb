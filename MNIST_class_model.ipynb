{
 "cells": [
  {
   "cell_type": "code",
   "execution_count": 73,
   "id": "0f417baa",
   "metadata": {
    "pycharm": {
     "is_executing": true
    }
   },
   "outputs": [],
   "source": [
    "#fetch_mldata is deprecated fetch_openml is the \n",
    "\n",
    "from sklearn.datasets import fetch_openml\n",
    "\n",
    "import pandas as pd\n",
    "\n",
    "# Load the MNIST dataset\n",
    "mnist = fetch_openml(name='mnist_784', version=1, parser=\"auto\")\n"
   ]
  },
  {
   "cell_type": "code",
   "execution_count": 74,
   "id": "fdefe3ea",
   "metadata": {
    "pycharm": {
     "is_executing": true
    }
   },
   "outputs": [
    {
     "data": {
      "text/plain": [
       "(70000, 784)"
      ]
     },
     "execution_count": 74,
     "metadata": {},
     "output_type": "execute_result"
    }
   ],
   "source": [
    "X, y = mnist['data'], mnist['target']\n",
    "X.shape"
   ]
  },
  {
   "cell_type": "code",
   "execution_count": 75,
   "id": "2e01df4f",
   "metadata": {
    "pycharm": {
     "is_executing": true
    }
   },
   "outputs": [
    {
     "data": {
      "image/png": "[encoded data removed]",
      "text/plain": [
       "<Figure size 640x480 with 1 Axes>"
      ]
     },
     "metadata": {},
     "output_type": "display_data"
    }
   ],
   "source": [
    "from sklearn.datasets import fetch_openml\n",
    "import matplotlib.pyplot as plt\n",
    "\n",
    "\n",
    "# Get the features (pixel values) and labels from the dataset\n",
    "# The Features must be convert to numpy array\n",
    "X = mnist.data.to_numpy()\n",
    "y = mnist.target\n",
    "\n",
    "# Access the 36000th image and its corresponding label\n",
    "image_index = 36000\n",
    "image = X[image_index]\n",
    "label = y[image_index]\n",
    "\n",
    "# Reshape the image to its original 28x28 dimensions\n",
    "image = image.reshape(28, 28)\n",
    "\n",
    "# Display the image\n",
    "plt.imshow(image, cmap='binary')\n",
    "plt.axis('off')\n",
    "plt.title(f\"Label: {label}\")\n",
    "plt.show()\n"
   ]
  },
  {
   "cell_type": "code",
   "execution_count": 76,
   "id": "fdf08e3b",
   "metadata": {
    "pycharm": {
     "is_executing": true
    }
   },
   "outputs": [
    {
     "data": {
      "text/plain": [
       "'9'"
      ]
     },
     "execution_count": 76,
     "metadata": {},
     "output_type": "execute_result"
    }
   ],
   "source": [
    "y[36000]"
   ]
  },
  {
   "cell_type": "code",
   "execution_count": 77,
   "id": "1f08db95",
   "metadata": {
    "pycharm": {
     "is_executing": true
    }
   },
   "outputs": [
    {
     "name": "stdout",
     "output_type": "stream",
     "text": [
      "X_train shape: (60000, 784)\n",
      "y_train shape: (60000,)\n",
      "Unique classes in y_train: ['0' '1' '2' '3' '4' '5' '6' '7' '8' '9']\n"
     ]
    }
   ],
   "source": [
    "import numpy as np\n",
    "\n",
    "#splitting the dataset to 60000 training set and 10000 testset\n",
    "X_train, X_test, y_train, y_test = X[:60000], X[60000:], y[:60000], y[60000:]\n",
    "\n",
    "print(\"X_train shape:\", X_train.shape)\n",
    "print(\"y_train shape:\", y_train.shape)\n",
    "unique_classes = np.unique(y_train)\n",
    "print(\"Unique classes in y_train:\", unique_classes)\n",
    "\n",
    "#shuffling dataset \n",
    "shuffled_index = np.random.permutation(60000) \n",
    "X_train, y_train = X_train[shuffled_index],y_train[shuffled_index]"
   ]
  },
  {
   "cell_type": "markdown",
   "id": "91d3c1c8",
   "metadata": {},
   "source": [
    "## Training the binary classifier"
   ]
  },
  {
   "cell_type": "code",
   "execution_count": 78,
   "id": "0e8698ab",
   "metadata": {
    "pycharm": {
     "is_executing": true
    }
   },
   "outputs": [
    {
     "name": "stdout",
     "output_type": "stream",
     "text": [
      "The image is not a 9\n"
     ]
    }
   ],
   "source": [
    "# #converting y_train to interger\n",
    "y_train = y_train.astype(int)\n",
    "\n",
    "# Creating a target vector for binary classification\n",
    "y_train_9 = (y_train == 9)\n",
    "y_test_9 = (y_test ==  9)\n",
    "\n",
    "# unique_classes = np.unique(y_train_9)\n",
    "# print(unique_classes)\n",
    "\n",
    "# Reshape `image` to a 1D array with shape (784,)\n",
    "image = image.reshape(784)\n",
    "\n",
    "from sklearn.linear_model import SGDClassifier\n",
    "\n",
    "# Create SGDClassifier model\n",
    "SGD_clf = SGDClassifier( random_state=42, max_iter=1000)\n",
    "\n",
    "# Fit on training data\n",
    "SGD_clf.fit(X_train, y_train_9)\n",
    "\n",
    "# Make prediction\n",
    "y_pred = SGD_clf.predict([image])\n",
    "\n",
    "if y_pred[0] == 1:\n",
    "  print(\"The image is a 9\")\n",
    "else:\n",
    "  print(\"The image is not a 9\")"
   ]
  },
  {
   "cell_type": "markdown",
   "id": "73c840dd",
   "metadata": {},
   "source": [
    "## Perform cross validation"
   ]
  },
  {
   "cell_type": "code",
   "execution_count": 79,
   "id": "b408b061",
   "metadata": {
    "pycharm": {
     "is_executing": true
    }
   },
   "outputs": [],
   "source": [
    "# from sklearn.model_selection import StratifiedKFold\n",
    "# from sklearn.metrics import precision_score\n",
    "# from sklearn.base import clone\n",
    "\n",
    "# skfolds_model = StratifiedKFold(n_splits=3, shuffle=True, random_state=42)\n",
    "\n",
    "# # Initialize your model\n",
    "# model = SGD_clf\n",
    "\n",
    "# # Perform stratified cross-validation\n",
    "# for train_index, test_index in skfolds_model.split(X, y):\n",
    "\n",
    "#     X_train, X_test = X[train_index], X[test_index]\n",
    "#     y_train, y_test = y[train_index], y[test_index]\n",
    "\n",
    "#     # Clone the model for each fold\n",
    "#     cloned_model = clone(model)\n",
    "\n",
    "#     # Train the cloned model using the training data\n",
    "#     cloned_model.fit(X_train, y_train)\n",
    "\n",
    "#     # Predict the target values for the test data\n",
    "#     y_pred = cloned_model.predict(X_test)\n",
    "\n",
    "#     # Calculate precision score\n",
    "#     precision = precision_score(y_test, y_pred, average='micro')\n",
    "\n",
    "#     # Print the precision score for each fold\n",
    "#     print(\"Precision:\", precision)"
   ]
  },
  {
   "cell_type": "code",
   "execution_count": 80,
   "id": "8179233f",
   "metadata": {
    "pycharm": {
     "is_executing": true
    }
   },
   "outputs": [
    {
     "name": "stdout",
     "output_type": "stream",
     "text": [
      "28807    False\n",
      "35555    False\n",
      "46424    False\n",
      "2110     False\n",
      "27280    False\n",
      "         ...  \n",
      "47893    False\n",
      "39373    False\n",
      "21840     True\n",
      "55950    False\n",
      "3351     False\n",
      "Name: class, Length: 60000, dtype: bool\n"
     ]
    }
   ],
   "source": [
    "print(y_train_9)"
   ]
  },
  {
   "cell_type": "markdown",
   "id": "f72becd6",
   "metadata": {},
   "source": [
    "## Performance Measure\n",
    "\n",
    "* Using cross valadation (cross_val_score)\n",
    "* cvscore shows a mean accuracy of 93%\n",
    "* using a dumb classifier to verify the accuracy which confirm the cvscore with the model having more than 90% accuracy meaning 10% of the image are 9, 90% are not 9"
   ]
  },
  {
   "cell_type": "code",
   "execution_count": 81,
   "id": "b28f1031",
   "metadata": {
    "pycharm": {
     "is_executing": true
    }
   },
   "outputs": [
    {
     "name": "stdout",
     "output_type": "stream",
     "text": [
      "[0.94205 0.956   0.9497 ]\n"
     ]
    },
    {
     "data": {
      "text/plain": [
       "0.94925"
      ]
     },
     "execution_count": 81,
     "metadata": {},
     "output_type": "execute_result"
    }
   ],
   "source": [
    "from sklearn.model_selection import cross_val_score\n",
    "\n",
    "cvscore = cross_val_score(SGD_clf, X_train, y_train_9, cv=3, scoring='accuracy')\n",
    "print(cvscore)\n",
    "cvscore.mean()\n"
   ]
  },
  {
   "cell_type": "code",
   "execution_count": 82,
   "id": "0c35f372",
   "metadata": {
    "pycharm": {
     "is_executing": true
    }
   },
   "outputs": [
    {
     "data": {
      "text/plain": [
       "array([0.8992 , 0.902  , 0.90135])"
      ]
     },
     "execution_count": 82,
     "metadata": {},
     "output_type": "execute_result"
    }
   ],
   "source": [
    "from sklearn.base import BaseEstimator\n",
    "\n",
    "class not9Classifier(BaseEstimator):\n",
    "    def fit(self, X, y=None):\n",
    "        pass\n",
    "    \n",
    "    def predict(self, X):\n",
    "        return np.zeros(len(X), dtype=bool)\n",
    "    \n",
    "not_9_clf = not9Classifier()\n",
    "cross_val_score(not_9_clf, X_train, y_train_9, cv=3, scoring='accuracy') \n",
    "\n"
   ]
  },
  {
   "cell_type": "markdown",
   "id": "696ad18b",
   "metadata": {},
   "source": [
    "### Evaluationg using confusin matrix"
   ]
  },
  {
   "cell_type": "code",
   "execution_count": 83,
   "id": "8c8f15a1",
   "metadata": {
    "pycharm": {
     "is_executing": true
    }
   },
   "outputs": [],
   "source": [
    "from sklearn.model_selection import cross_val_predict\n",
    "\n",
    "# this return the clean prediction on each test fold\n",
    "y_train_pred = cross_val_predict(SGD_clf, X_train, y_train_9, cv=3) "
   ]
  },
  {
   "cell_type": "code",
   "execution_count": 84,
   "id": "4129278f",
   "metadata": {
    "pycharm": {
     "is_executing": true
    }
   },
   "outputs": [
    {
     "data": {
      "text/plain": [
       "array([[52142,  1909],\n",
       "       [ 1136,  4813]], dtype=int64)"
      ]
     },
     "execution_count": 84,
     "metadata": {},
     "output_type": "execute_result"
    }
   ],
   "source": [
    "from sklearn.metrics import confusion_matrix\n",
    "\n",
    "confusion_matrix(y_train_9, y_train_pred)\n",
    "\n",
    "#TN of 50678 correctly classified as non 9s, FP- 3373 is wrongly classified as  9s\n",
    "#FN of 752 wrongly classified as  non 9s, TP- 5195 is correctly classified as  9s"
   ]
  },
  {
   "cell_type": "code",
   "execution_count": 85,
   "id": "4ac04d66",
   "metadata": {
    "pycharm": {
     "is_executing": true
    },
    "scrolled": true
   },
   "outputs": [
    {
     "data": {
      "text/plain": [
       "array([[52142,  1909],\n",
       "       [ 1136,  4813]], dtype=int64)"
      ]
     },
     "execution_count": 85,
     "metadata": {},
     "output_type": "execute_result"
    }
   ],
   "source": [
    "confusion_matrix(y_train_9, y_train_pred)"
   ]
  },
  {
   "cell_type": "markdown",
   "id": "ea04490d",
   "metadata": {},
   "source": [
    "## Precision and recall as a metric\n",
    "\n",
    "### The 9_detector does not look shine from it accuracy when it claimed that image represent 9 correctly only 70%. Moreover it only detect 78% of the 9s"
   ]
  },
  {
   "cell_type": "code",
   "execution_count": 86,
   "id": "6522bbe7",
   "metadata": {
    "pycharm": {
     "is_executing": true
    }
   },
   "outputs": [
    {
     "data": {
      "text/plain": [
       "0.7160071407319251"
      ]
     },
     "execution_count": 86,
     "metadata": {},
     "output_type": "execute_result"
    }
   ],
   "source": [
    "from sklearn.metrics import precision_score, recall_score\n",
    "\n",
    "precision_score(y_train_9, y_train_pred)"
   ]
  },
  {
   "cell_type": "code",
   "execution_count": 87,
   "id": "c5855c90",
   "metadata": {
    "pycharm": {
     "is_executing": true
    }
   },
   "outputs": [
    {
     "data": {
      "text/plain": [
       "0.809043536728862"
      ]
     },
     "execution_count": 87,
     "metadata": {},
     "output_type": "execute_result"
    }
   ],
   "source": [
    "recall_score(y_train_9, y_train_pred)"
   ]
  },
  {
   "cell_type": "code",
   "execution_count": 88,
   "id": "793b0828",
   "metadata": {
    "pycharm": {
     "is_executing": true
    }
   },
   "outputs": [
    {
     "data": {
      "text/plain": [
       "0.94925"
      ]
     },
     "execution_count": 88,
     "metadata": {},
     "output_type": "execute_result"
    }
   ],
   "source": [
    "from sklearn.metrics import f1_score\n",
    "\n",
    "f1_score(y_train_9, y_train_pred, average='micro')"
   ]
  },
  {
   "cell_type": "markdown",
   "id": "7dedb439",
   "metadata": {},
   "source": [
    "## using a decison function to determine the right threshold to use"
   ]
  },
  {
   "cell_type": "code",
   "execution_count": 100,
   "id": "5abfeb1c",
   "metadata": {
    "pycharm": {
     "is_executing": true
    }
   },
   "outputs": [
    {
     "data": {
      "text/plain": [
       "array([-3242.12121675])"
      ]
     },
     "execution_count": 100,
     "metadata": {},
     "output_type": "execute_result"
    }
   ],
   "source": [
    "\n",
    "# y_scores= SGD_clf.decision_function([image])\n",
    "# y_scores"
   ]
  },
  {
   "cell_type": "code",
   "execution_count": 101,
   "id": "f56854cf",
   "metadata": {},
   "outputs": [
    {
     "data": {
      "text/plain": [
       "array([False])"
      ]
     },
     "execution_count": 101,
     "metadata": {},
     "output_type": "execute_result"
    }
   ],
   "source": [
    "# threshold = 0\n",
    "# y_score_image_pred = (y_scores > threshold)\n",
    "# y_score_image_pred"
   ]
  },
  {
   "cell_type": "code",
   "execution_count": 102,
   "id": "a9232e94",
   "metadata": {},
   "outputs": [
    {
     "data": {
      "text/plain": [
       "array([False])"
      ]
     },
     "execution_count": 102,
     "metadata": {},
     "output_type": "execute_result"
    }
   ],
   "source": [
    "# threshold = 200000\n",
    "# y_score_image_pred = (y_scores > threshold)\n",
    "# y_score_image_pred"
   ]
  },
  {
   "cell_type": "code",
   "execution_count": 103,
   "id": "366229aa",
   "metadata": {},
   "outputs": [
    {
     "data": {
      "text/plain": [
       "array([-25992.10943006,   5742.86474838, -26439.09265947, ...,\n",
       "         3235.17485148, -30149.65921463,  -6516.29119984])"
      ]
     },
     "execution_count": 103,
     "metadata": {},
     "output_type": "execute_result"
    }
   ],
   "source": [
    "# instead of using decision functions like above, we can use cross validation prediction with the method decision function\n",
    "\n",
    "y_scores = cross_val_predict(SGD_clf, X_train, y_train_9, cv=3, method='decision_function')\n",
    "y_scores"
   ]
  },
  {
   "cell_type": "code",
   "execution_count": 105,
   "id": "a3a40981",
   "metadata": {},
   "outputs": [
    {
     "data": {
      "image/png": "[encoded data removed]",
      "text/plain": [
       "<Figure size 640x480 with 1 Axes>"
      ]
     },
     "metadata": {},
     "output_type": "display_data"
    }
   ],
   "source": [
    "from sklearn.metrics import precision_recall_curve\n",
    "recalls, precisions, thresholds = precision_recall_curve(y_train_9, y_scores)\n",
    "\n",
    "def plot_precision_recall_vs_threshold(recalls, precisions, thresholds):\n",
    "    plt.plot(thresholds, precisions[:-1],'b--', label='Precision')\n",
    "    plt.plot(thresholds, recalls[:-1],'g--', label='Recall')\n",
    "    plt.xlabel('Threshold')\n",
    "    plt.legend(loc= 'upper left')\n",
    "    plt.title('Precision and recall versus the decision threshold')\n",
    "    plt.ylim([0, 1])\n",
    "    plt.show()\n",
    "\n",
    "\n",
    "plot_precision_recall_vs_threshold(recalls, precisions, thresholds)\n"
   ]
  },
  {
   "cell_type": "code",
   "execution_count": 110,
   "id": "9101fbe9",
   "metadata": {},
   "outputs": [
    {
     "name": "stderr",
     "output_type": "stream",
     "text": [
      "No artists with labels found to put in legend.  Note that artists whose label start with an underscore are ignored when legend() is called with no argument.\n"
     ]
    },
    {
     "data": {
      "image/png": "[encoded data removed]",
      "text/plain": [
       "<Figure size 640x480 with 1 Axes>"
      ]
     },
     "metadata": {},
     "output_type": "display_data"
    }
   ],
   "source": [
    "def plot_precision_vs_recall(recalls, precisions):\n",
    "    plt.plot( precisions, recalls)\n",
    "    plt.xlabel('recalls')\n",
    "    plt.ylabel('precision')\n",
    "    plt.legend(loc= 'upper left')\n",
    "    plt.title('Precision vs recall')\n",
    "    plt.ylim([0, 1])\n",
    "    plt.show()\n",
    "    \n",
    "plot_precision_vs_recall(recalls, precisions)"
   ]
  },
  {
   "cell_type": "code",
   "execution_count": 121,
   "id": "80d10132",
   "metadata": {},
   "outputs": [
    {
     "data": {
      "text/plain": [
       "1.0"
      ]
     },
     "execution_count": 121,
     "metadata": {},
     "output_type": "execute_result"
    }
   ],
   "source": [
    "y_train_pred_90 = (y_scores > 30000)\n",
    "precision_score(y_train_9, y_train_pred_90)"
   ]
  },
  {
   "cell_type": "code",
   "execution_count": 122,
   "id": "d4ff83fa",
   "metadata": {},
   "outputs": [
    {
     "data": {
      "text/plain": [
       "0.0006723819129265423"
      ]
     },
     "execution_count": 122,
     "metadata": {},
     "output_type": "execute_result"
    }
   ],
   "source": [
    "recall_score(y_train_9, y_train_pred_90)"
   ]
  },
  {
   "cell_type": "code",
   "execution_count": null,
   "id": "5527e961",
   "metadata": {},
   "outputs": [],
   "source": []
  },
  {
   "cell_type": "code",
   "execution_count": null,
   "id": "b313c9d4",
   "metadata": {},
   "outputs": [],
   "source": []
  }
 ],
 "metadata": {
  "kernelspec": {
   "display_name": "Python 3 (ipykernel)",
   "language": "python",
   "name": "python3"
  },
  "language_info": {
   "codemirror_mode": {
    "name": "ipython",
    "version": 3
   },
   "file_extension": ".py",
   "mimetype": "text/x-python",
   "name": "python",
   "nbconvert_exporter": "python",
   "pygments_lexer": "ipython3",
   "version": "3.9.16"
  }
 },
 "nbformat": 4,
 "nbformat_minor": 5
}
