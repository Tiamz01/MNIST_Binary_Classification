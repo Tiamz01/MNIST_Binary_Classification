{
 "cells": [
  {
   "cell_type": "code",
   "execution_count": null,
   "outputs": [],
   "source": [
    "#fetch_mldata is deprecated fetch_openml is the \n",
    "\n",
    "from sklearn.datasets import fetch_openml\n",
    "\n",
    "import pandas as pd\n",
    "\n",
    "# Load the MNIST dataset\n",
    "mnist = fetch_openml(name='mnist_784', version=1, parser=\"auto\")\n",
    "\n"
   ],
   "metadata": {
    "collapsed": false
   }
  },
  {
   "cell_type": "code",
   "execution_count": null,
   "outputs": [],
   "source": [
    "X, y = mnist['data'], mnist['target']\n",
    "X.shape"
   ],
   "metadata": {
    "collapsed": false
   }
  },
  {
   "cell_type": "code",
   "execution_count": null,
   "outputs": [],
   "source": [
    "from sklearn.datasets import fetch_openml\n",
    "import matplotlib.pyplot as plt\n",
    "\n",
    "\n",
    "# Get the features (pixel values) and labels from the dataset\n",
    "# The Features must be convert to numpy array\n",
    "X = mnist.data.to_numpy()\n",
    "y = mnist.target\n",
    "\n",
    "# Access the 36000th image and its corresponding label\n",
    "image_index = 36000\n",
    "image = X[image_index]\n",
    "label = y[image_index]\n",
    "\n",
    "# Reshape the image to its original 28x28 dimensions\n",
    "image = image.reshape(28, 28)\n",
    "\n",
    "# Display the image\n",
    "plt.imshow(image, cmap='binary')\n",
    "plt.axis('off')\n",
    "plt.title(f\"Label: {label}\")\n",
    "plt.show()\n"
   ],
   "metadata": {
    "collapsed": false
   }
  },
  {
   "cell_type": "code",
   "execution_count": null,
   "outputs": [],
   "source": [
    "y[36000]"
   ],
   "metadata": {
    "collapsed": false
   }
  },
  {
   "cell_type": "code",
   "execution_count": null,
   "outputs": [],
   "source": [
    "import numpy as np\n",
    "\n",
    "#splitting the dataset to 60000 training set and 10000 testset\n",
    "X_train, X_test, y_train, y_test = X[:60000], X[60000:], y[:60000], y[60000:]\n",
    "\n",
    "print(\"X_train shape:\", X_train.shape)\n",
    "print(\"y_train shape:\", y_train.shape)\n",
    "unique_classes = np.unique(y_train)\n",
    "print(\"Unique classes in y_train:\", unique_classes)\n",
    "\n",
    "#shuffling dataset \n",
    "shuffled_index = np.random.permutation(60000) \n",
    "X_train, y_train = X_train[shuffled_index], y_train[shuffled_index]"
   ],
   "metadata": {
    "collapsed": false
   }
  },
  {
   "cell_type": "markdown",
   "source": [
    "## Training the binary classifier"
   ],
   "metadata": {
    "collapsed": false
   }
  },
  {
   "cell_type": "code",
   "execution_count": null,
   "outputs": [],
   "source": [
    "# #converting y_train to interger\n",
    "y_train = y_train.astype(int)\n",
    "\n",
    "# Creating a target vector for binary classification\n",
    "y_train_9 = (y_train == 9)\n",
    "y_test_9 = (y_test ==  9)\n",
    "\n",
    "# unique_classes = np.unique(y_train_9)\n",
    "# print(unique_classes)\n",
    "\n",
    "# Reshape `image` to a 1D array with shape (784,)\n",
    "image = image.reshape(784)  \n",
    "\n",
    "from sklearn.linear_model import SGDClassifier\n",
    "\n",
    "# Create SGDClassifier model\n",
    "SGD_clf = SGDClassifier( random_state=42, max_iter=1000)\n",
    "\n",
    "# Fit on training data  \n",
    "SGD_clf.fit(X_train, y_train_9)\n",
    "\n",
    "# Make prediction\n",
    "prediction = SGD_clf.predict([image])\n",
    "\n",
    "if prediction[0] == 1:\n",
    "  print(\"The image is a 9\")\n",
    "else:\n",
    "  print(\"The image is not a 9\")"
   ],
   "metadata": {
    "collapsed": false
   }
  },
  {
   "cell_type": "code",
   "execution_count": null,
   "outputs": [],
   "source": [
    "print(y_train_9)"
   ],
   "metadata": {
    "collapsed": false
   }
  },
  {
   "cell_type": "markdown",
   "source": [
    "## Performance Measure\n",
    "\n",
    "* Using cross valadation (cross_val_score)\n",
    "* cvscore shows a mean accuracy of 93%\n",
    "* using a dumb classifier to verify the accuracy which confirm the cvscore with the model having more than 90% accuracy meaning 10% of the image are 9, 90% are not 9"
   ],
   "metadata": {
    "collapsed": false
   }
  },
  {
   "cell_type": "code",
   "execution_count": null,
   "outputs": [],
   "source": [
    "from sklearn.model_selection import cross_val_score\n",
    "\n",
    "cvscore = cross_val_score(SGD_clf, X_train, y_train_9, cv=3, scoring='accuracy')\n",
    "print(cvscore)\n",
    "cvscore.mean()\n"
   ],
   "metadata": {
    "collapsed": false
   }
  },
  {
   "cell_type": "code",
   "execution_count": null,
   "outputs": [],
   "source": [
    "from sklearn.base import BaseEstimator\n",
    "\n",
    "class not9classifier(BaseEstimator):\n",
    "    def fit(self, X, y=None):\n",
    "        pass\n",
    "    \n",
    "    def predict(self, X):\n",
    "        return np.zeros(len(X), dtype=bool)\n",
    "    \n",
    "not_9_clf = not9classifier() \n",
    "cross_val_score(not_9_clf, X_train, y_train_9, cv=3, scoring='accuracy') \n",
    "\n"
   ],
   "metadata": {
    "collapsed": false
   }
  },
  {
   "cell_type": "markdown",
   "source": [
    "### Evaluationg using confusin matrix"
   ],
   "metadata": {
    "collapsed": false
   }
  },
  {
   "cell_type": "code",
   "execution_count": null,
   "outputs": [],
   "source": [
    "from sklearn.model_selection import cross_val_predict\n",
    "\n",
    "y_train_pred = cross_val_predict(SGD_clf, X_train, y_train_9, cv=3) "
   ],
   "metadata": {
    "collapsed": false
   }
  },
  {
   "cell_type": "code",
   "execution_count": null,
   "outputs": [],
   "source": [
    "from sklearn.metrics import confusion_matrix\n",
    "\n",
    "confusion_matrix(y_train_9, y_train_pred)\n",
    "\n",
    "#TN of 50678 correctly classified as non 9s, FP- 3373 is wrongly classified as  9s\n",
    "#FN of 752 wrongly classified as  non 9s, TP- 5195 is correctly classified as  9s"
   ],
   "metadata": {
    "collapsed": false
   }
  },
  {
   "cell_type": "code",
   "execution_count": null,
   "outputs": [],
   "source": [
    "confusion_matrix(y_train_9, y_train_pred)"
   ],
   "metadata": {
    "collapsed": false
   }
  },
  {
   "cell_type": "code",
   "execution_count": null,
   "id": "5527e961",
   "metadata": {},
   "outputs": [],
   "source": []
  },
  {
   "cell_type": "code",
   "execution_count": null,
   "id": "b313c9d4",
   "metadata": {},
   "outputs": [],
   "source": []
  }
 ],
 "metadata": {
  "kernelspec": {
   "display_name": "Python 3 (ipykernel)",
   "language": "python",
   "name": "python3"
  },
  "language_info": {
   "codemirror_mode": {
    "name": "ipython",
    "version": 3
   },
   "file_extension": ".py",
   "mimetype": "text/x-python",
   "name": "python",
   "nbconvert_exporter": "python",
   "pygments_lexer": "ipython3",
   "version": "3.9.16"
  }
 },
 "nbformat": 4,
 "nbformat_minor": 5
}
