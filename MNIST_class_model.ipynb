{
 "cells": [
  {
   "cell_type": "code",
   "execution_count": 1,
   "id": "0f417baa",
   "metadata": {},
   "outputs": [],
   "source": [
    "#fetch_mldata is deprecated fetch_openml is the \n",
    "\n",
    "from sklearn.datasets import fetch_openml\n",
    "\n",
    "import pandas as pd\n",
    "\n",
    "# Load the MNIST dataset\n",
    "mnist = fetch_openml(name='mnist_784', version=1, parser=\"auto\")\n",
    "\n"
   ]
  },
  {
   "cell_type": "code",
   "execution_count": 2,
   "id": "fdefe3ea",
   "metadata": {},
   "outputs": [
    {
     "data": {
      "text/plain": "(70000, 784)"
     },
     "execution_count": 2,
     "metadata": {},
     "output_type": "execute_result"
    }
   ],
   "source": [
    "X, y = mnist['data'], mnist['target']\n",
    "X.shape"
   ]
  },
  {
   "cell_type": "code",
   "execution_count": 3,
   "id": "2e01df4f",
   "metadata": {},
   "outputs": [
    {
     "data": {
      "text/plain": "<Figure size 640x480 with 1 Axes>",
      "image/png": "[encoded data removed]"
     },
     "metadata": {},
     "output_type": "display_data"
    }
   ],
   "source": [
    "from sklearn.datasets import fetch_openml\n",
    "import matplotlib.pyplot as plt\n",
    "\n",
    "\n",
    "# Get the features (pixel values) and labels from the dataset\n",
    "# The Features must be convert to numpy array\n",
    "X = mnist.data.to_numpy()\n",
    "y = mnist.target\n",
    "\n",
    "# Access the 36000th image and its corresponding label\n",
    "image_index = 36000\n",
    "image = X[image_index]\n",
    "label = y[image_index]\n",
    "\n",
    "# Reshape the image to its original 28x28 dimensions\n",
    "image = image.reshape(28, 28)\n",
    "\n",
    "# Display the image\n",
    "plt.imshow(image, cmap='binary')\n",
    "plt.axis('off')\n",
    "plt.title(f\"Label: {label}\")\n",
    "plt.show()\n"
   ]
  },
  {
   "cell_type": "code",
   "execution_count": 4,
   "id": "fdf08e3b",
   "metadata": {},
   "outputs": [
    {
     "data": {
      "text/plain": "'9'"
     },
     "execution_count": 4,
     "metadata": {},
     "output_type": "execute_result"
    }
   ],
   "source": [
    "y[36000]"
   ]
  },
  {
   "cell_type": "code",
   "execution_count": 5,
   "id": "1f08db95",
   "metadata": {},
   "outputs": [
    {
     "name": "stdout",
     "output_type": "stream",
     "text": [
      "X_train shape: (60000, 784)\n",
      "y_train shape: (60000,)\n",
      "Unique classes in y_train: ['0' '1' '2' '3' '4' '5' '6' '7' '8' '9']\n"
     ]
    }
   ],
   "source": [
    "import numpy as np\n",
    "\n",
    "#splitting the dataset to 60000 training set and 10000 testset\n",
    "X_train, X_test, y_train, y_test = X[:60000], X[60000:], y[:60000], y[60000:]\n",
    "\n",
    "print(\"X_train shape:\", X_train.shape)\n",
    "print(\"y_train shape:\", y_train.shape)\n",
    "unique_classes = np.unique(y_train)\n",
    "print(\"Unique classes in y_train:\", unique_classes)\n",
    "\n",
    "#shuffling dataset \n",
    "shuffled_index = np.random.permutation(60000) \n",
    "X_train, y_train = X_train[shuffled_index], y_train[shuffled_index]"
   ]
  },
  {
   "cell_type": "markdown",
   "id": "4b946647",
   "metadata": {},
   "source": [
    "## Training the binary classifier"
   ]
  },
  {
   "cell_type": "code",
   "execution_count": 6,
   "id": "b75aa879",
   "metadata": {
    "scrolled": true
   },
   "outputs": [
    {
     "name": "stdout",
     "output_type": "stream",
     "text": [
      "The image is not a 9\n"
     ]
    }
   ],
   "source": [
    "# #converting y_train to interger\n",
    "y_train = y_train.astype(int)\n",
    "\n",
    "# Creating a target vector for binary classification\n",
    "y_train_9 = (y_train == 9)\n",
    "y_test_9 = (y_test ==  9)\n",
    "\n",
    "# unique_classes = np.unique(y_train_9)\n",
    "# print(unique_classes)\n",
    "\n",
    "# Reshape `image` to a 1D array with shape (784,)\n",
    "image = image.reshape(784)  \n",
    "\n",
    "from sklearn.linear_model import SGDClassifier\n",
    "\n",
    "# Create SGDClassifier model\n",
    "SGD_clf = SGDClassifier( random_state=42, max_iter=1000)\n",
    "\n",
    "# Fit on training data  \n",
    "SGD_clf.fit(X_train, y_train_9)\n",
    "\n",
    "# Make prediction\n",
    "prediction = SGD_clf.predict([image])\n",
    "\n",
    "if prediction[0] == 1:\n",
    "  print(\"The image is a 9\")\n",
    "else:\n",
    "  print(\"The image is not a 9\")"
   ]
  },
  {
   "cell_type": "code",
   "execution_count": 7,
   "id": "fa946aef",
   "metadata": {
    "collapsed": true
   },
   "outputs": [
    {
     "name": "stdout",
     "output_type": "stream",
     "text": [
      "55141    False\n",
      "22975    False\n",
      "22552     True\n",
      "7003     False\n",
      "28990    False\n",
      "         ...  \n",
      "3778     False\n",
      "25336    False\n",
      "44356    False\n",
      "49302    False\n",
      "6032     False\n",
      "Name: class, Length: 60000, dtype: bool\n"
     ]
    }
   ],
   "source": [
    "print(y_train_9)"
   ]
  },
  {
   "cell_type": "markdown",
   "id": "f72becd6",
   "metadata": {},
   "source": [
    "## Performance Measure\n",
    "\n",
    "* Using cross valadation (cross_val_score)\n",
    "* cvscore shows a mean accuracy of 93%\n",
    "* using a dumb classifier to verify the accuracy which confirm the cvscore with the model having more than 90% accuracy meaning 10% of the image are 9, 90% are not 9"
   ]
  },
  {
   "cell_type": "code",
   "execution_count": 8,
   "id": "b28f1031",
   "metadata": {},
   "outputs": [
    {
     "name": "stdout",
     "output_type": "stream",
     "text": [
      "[0.82685 0.92265 0.93445]\n"
     ]
    },
    {
     "data": {
      "text/plain": "0.89465"
     },
     "execution_count": 8,
     "metadata": {},
     "output_type": "execute_result"
    }
   ],
   "source": [
    "from sklearn.model_selection import cross_val_score\n",
    "\n",
    "cvscore = cross_val_score(SGD_clf, X_train, y_train_9, cv=3, scoring='accuracy')\n",
    "print(cvscore)\n",
    "cvscore.mean()\n"
   ]
  },
  {
   "cell_type": "code",
   "execution_count": 9,
   "id": "0c35f372",
   "metadata": {},
   "outputs": [
    {
     "data": {
      "text/plain": "array([0.90085, 0.90085, 0.90085])"
     },
     "execution_count": 9,
     "metadata": {},
     "output_type": "execute_result"
    }
   ],
   "source": [
    "from sklearn.base import BaseEstimator\n",
    "\n",
    "class not9classifier(BaseEstimator):\n",
    "    def fit(self, X, y=None):\n",
    "        pass\n",
    "    \n",
    "    def predict(self, X):\n",
    "        return np.zeros(len(X), dtype=bool)\n",
    "    \n",
    "not_9_clf = not9classifier() \n",
    "cross_val_score(not_9_clf, X_train, y_train_9, cv=3, scoring='accuracy') \n",
    "\n"
   ]
  },
  {
   "cell_type": "markdown",
   "id": "696ad18b",
   "metadata": {},
   "source": [
    "### Evaluationg using confusin matrix"
   ]
  },
  {
   "cell_type": "code",
   "execution_count": 10,
   "id": "8c8f15a1",
   "metadata": {},
   "outputs": [],
   "source": [
    "from sklearn.model_selection import cross_val_predict\n",
    "\n",
    "y_train_pred = cross_val_predict(SGD_clf, X_train, y_train_9, cv=3) "
   ]
  },
  {
   "cell_type": "code",
   "execution_count": 11,
   "id": "4129278f",
   "metadata": {},
   "outputs": [
    {
     "data": {
      "text/plain": "array([[49495,  4556],\n       [ 1765,  4184]], dtype=int64)"
     },
     "execution_count": 11,
     "metadata": {},
     "output_type": "execute_result"
    }
   ],
   "source": [
    "from sklearn.metrics import confusion_matrix\n",
    "\n",
    "confusion_matrix(y_train_9, y_train_pred)\n",
    "\n",
    "#TN of 50678 correctly classified as non 9s, FP- 3373 is wrongly classified as  9s\n",
    "#FN of 752 wrongly classified as  non 9s, TP- 5195 is correctly classified as  9s"
   ]
  },
  {
   "cell_type": "code",
   "execution_count": 12,
   "id": "4ac04d66",
   "metadata": {},
   "outputs": [
    {
     "data": {
      "text/plain": "array([[49495,  4556],\n       [ 1765,  4184]], dtype=int64)"
     },
     "execution_count": 12,
     "metadata": {},
     "output_type": "execute_result"
    }
   ],
   "source": [
    "confusion_matrix(y_train_9, y_train_pred)"
   ]
  },
  {
   "cell_type": "code",
   "execution_count": null,
   "id": "26eaa12b",
   "metadata": {},
   "outputs": [],
   "source": []
  },
  {
   "cell_type": "code",
   "execution_count": 12,
   "outputs": [],
   "source": [],
   "metadata": {
    "collapsed": false
   }
  }
 ],
 "metadata": {
  "kernelspec": {
   "display_name": "Python 3 (ipykernel)",
   "language": "python",
   "name": "python3"
  },
  "language_info": {
   "codemirror_mode": {
    "name": "ipython",
    "version": 3
   },
   "file_extension": ".py",
   "mimetype": "text/x-python",
   "name": "python",
   "nbconvert_exporter": "python",
   "pygments_lexer": "ipython3",
   "version": "3.9.16"
  }
 },
 "nbformat": 4,
 "nbformat_minor": 5
}
